{
 "cells": [
  {
   "cell_type": "code",
   "execution_count": 1,
   "id": "472e3324",
   "metadata": {},
   "outputs": [
    {
     "name": "stdout",
     "output_type": "stream",
     "text": [
      "Text from Emma by Jane Austen:\n",
      "[Emma by Jane Austen 1816]\n",
      "\n",
      "VOLUME I\n",
      "\n",
      "CHAPTER I\n",
      "\n",
      "\n",
      "Emma Woodhouse, handsome, clever, and rich, with a comfortable home\n",
      "and happy disposition, seemed to unite some of the best blessings\n",
      "of existence; and had lived nearly twenty-one years in the world\n",
      "with very little to distress or vex her.\n",
      "\n",
      "She was t\n",
      "\n",
      "Text from Hamlet by William Shakespeare:\n",
      "[The Tragedie of Hamlet by William Shakespeare 1599]\n",
      "\n",
      "\n",
      "Actus Primus. Scoena Prima.\n",
      "\n",
      "Enter Barnardo and Francisco two Centinels.\n",
      "\n",
      "  Barnardo. Who's there?\n",
      "  Fran. Nay answer me: Stand & vnfold\n",
      "your selfe\n",
      "\n",
      "   Bar. Long liue the King\n",
      "\n",
      "   Fran. Barnardo?\n",
      "  Bar. He\n",
      "\n",
      "   Fran. You come most carefully vpon \n"
     ]
    },
    {
     "name": "stderr",
     "output_type": "stream",
     "text": [
      "[nltk_data] Error loading gutenberg: <urlopen error [WinError 10060] A\n",
      "[nltk_data]     connection attempt failed because the connected party\n",
      "[nltk_data]     did not properly respond after a period of time, or\n",
      "[nltk_data]     established connection failed because connected host\n",
      "[nltk_data]     has failed to respond>\n"
     ]
    }
   ],
   "source": [
    "# Install NLTK if you haven't already: pip install nltk\n",
    "import nltk\n",
    "from nltk.corpus import gutenberg\n",
    "\n",
    "# Download the Gutenberg corpus (you only need to do this once)\n",
    "nltk.download('gutenberg')\n",
    "\n",
    "# Extract text content from different media (e.g., books from Project Gutenberg)\n",
    "emma = gutenberg.raw('austen-emma.txt')\n",
    "shakespeare = gutenberg.raw('shakespeare-hamlet.txt')\n",
    "\n",
    "print(\"Text from Emma by Jane Austen:\")\n",
    "print(emma[:300])\n",
    "\n",
    "print(\"\\nText from Hamlet by William Shakespeare:\")\n",
    "print(shakespeare[:300])\n"
   ]
  },
  {
   "cell_type": "code",
   "execution_count": 2,
   "id": "6345728a",
   "metadata": {},
   "outputs": [
    {
     "name": "stdout",
     "output_type": "stream",
     "text": [
      "Sentences: ['NLTK is a powerful library for natural language processing.', 'It makes it easy to work with human language data.']\n",
      "Tokens: ['NLTK', 'is', 'a', 'powerful', 'library', 'for', 'natural', 'language', 'processing', '.', 'It', 'makes', 'it', 'easy', 'to', 'work', 'with', 'human', 'language', 'data', '.']\n"
     ]
    }
   ],
   "source": [
    "import nltk\n",
    "from nltk.tokenize import sent_tokenize, word_tokenize\n",
    "\n",
    "# Sample text for sentence splitting and tokenization\n",
    "text = \"NLTK is a powerful library for natural language processing. It makes it easy to work with human language data.\"\n",
    "\n",
    "# Sentence splitting\n",
    "sentences = sent_tokenize(text)\n",
    "print(\"Sentences:\", sentences)\n",
    "\n",
    "# Tokenization\n",
    "tokens = word_tokenize(text)\n",
    "print(\"Tokens:\", tokens)\n"
   ]
  },
  {
   "cell_type": "code",
   "execution_count": 3,
   "id": "32b46599",
   "metadata": {},
   "outputs": [
    {
     "name": "stdout",
     "output_type": "stream",
     "text": [
      "Stemmed Words: ['run', 'fli', 'better', 'happili', 'cat']\n",
      "Lemmatized Words: ['running', 'fly', 'better', 'happily', 'cat']\n"
     ]
    }
   ],
   "source": [
    "from nltk.stem import PorterStemmer, WordNetLemmatizer\n",
    "\n",
    "# Sample words for stemming and lemmatization\n",
    "words = ['running', 'flies', 'better', 'happily', 'cats']\n",
    "\n",
    "# Stemming\n",
    "porter_stemmer = PorterStemmer()\n",
    "stemmed_words = [porter_stemmer.stem(word) for word in words]\n",
    "print(\"Stemmed Words:\", stemmed_words)\n",
    "\n",
    "# Lemmatization\n",
    "lemmatizer = WordNetLemmatizer()\n",
    "lemmatized_words = [lemmatizer.lemmatize(word) for word in words]\n",
    "print(\"Lemmatized Words:\", lemmatized_words)\n"
   ]
  },
  {
   "cell_type": "code",
   "execution_count": 4,
   "id": "5cf18d75",
   "metadata": {},
   "outputs": [
    {
     "name": "stdout",
     "output_type": "stream",
     "text": [
      "Filtered Tokens (after stop word removal): ['NLTK', 'powerful', 'library', 'natural', 'language', 'processing', '.', 'makes', 'easy', 'work', 'human', 'language', 'data', '.']\n"
     ]
    }
   ],
   "source": [
    "from nltk.corpus import stopwords\n",
    "\n",
    "# Sample text for stop word removal\n",
    "text = \"NLTK is a powerful library for natural language processing. It makes it easy to work with human language data.\"\n",
    "\n",
    "# Tokenization\n",
    "tokens = word_tokenize(text)\n",
    "\n",
    "# Remove stop words\n",
    "stop_words = set(stopwords.words('english'))\n",
    "filtered_tokens = [word for word in tokens if word.lower() not in stop_words]\n",
    "print(\"Filtered Tokens (after stop word removal):\", filtered_tokens)\n"
   ]
  },
  {
   "cell_type": "code",
   "execution_count": 5,
   "id": "cd217337",
   "metadata": {},
   "outputs": [
    {
     "name": "stdout",
     "output_type": "stream",
     "text": [
      "POS Tags: [('NLTK', 'NNP'), ('is', 'VBZ'), ('a', 'DT'), ('powerful', 'JJ'), ('library', 'NN'), ('for', 'IN'), ('natural', 'JJ'), ('language', 'NN'), ('processing', 'NN'), ('.', '.'), ('It', 'PRP'), ('makes', 'VBZ'), ('it', 'PRP'), ('easy', 'JJ'), ('to', 'TO'), ('work', 'VB'), ('with', 'IN'), ('human', 'JJ'), ('language', 'NN'), ('data', 'NNS'), ('.', '.')]\n"
     ]
    }
   ],
   "source": [
    "from nltk import pos_tag\n",
    "from nltk.tokenize import word_tokenize\n",
    "\n",
    "# Sample text for POS tagging\n",
    "text = \"NLTK is a powerful library for natural language processing. It makes it easy to work with human language data.\"\n",
    "\n",
    "# Tokenization\n",
    "tokens = word_tokenize(text)\n",
    "\n",
    "# POS tagging\n",
    "pos_tags = pos_tag(tokens)\n",
    "print(\"POS Tags:\", pos_tags)\n"
   ]
  },
  {
   "cell_type": "code",
   "execution_count": 6,
   "id": "647922a7",
   "metadata": {},
   "outputs": [],
   "source": [
    "from nltk import RegexpParser\n",
    "from nltk.tokenize import word_tokenize\n",
    "\n",
    "# Sample text for chunking\n",
    "text = \"NLTK is a powerful library for natural language processing. It makes it easy to work with human language data.\"\n",
    "\n",
    "# Tokenization\n",
    "tokens = word_tokenize(text)\n",
    "\n",
    "# POS tagging\n",
    "pos_tags = pos_tag(tokens)\n",
    "\n",
    "# Define a chunking grammar\n",
    "grammar = r\"\"\"\n",
    "    NP: {<DT>?<JJ>*<NN>}   # Chunk NP (noun phrase)\n",
    "    PP: {<IN><NP>}         # Chunk PP (prepositional phrase)\n",
    "\"\"\"\n",
    "\n",
    "# Create a chunk parser\n",
    "chunk_parser = RegexpParser(grammar)\n",
    "\n",
    "# Perform chunking\n",
    "chunks = chunk_parser.parse(pos_tags)\n",
    "chunks.draw()  # This will open a window to display the chunks (requires Tkinter)\n"
   ]
  },
  {
   "cell_type": "code",
   "execution_count": null,
   "id": "c3b085ce",
   "metadata": {},
   "outputs": [],
   "source": []
  }
 ],
 "metadata": {
  "kernelspec": {
   "display_name": "Python 3 (ipykernel)",
   "language": "python",
   "name": "python3"
  },
  "language_info": {
   "codemirror_mode": {
    "name": "ipython",
    "version": 3
   },
   "file_extension": ".py",
   "mimetype": "text/x-python",
   "name": "python",
   "nbconvert_exporter": "python",
   "pygments_lexer": "ipython3",
   "version": "3.10.9"
  }
 },
 "nbformat": 4,
 "nbformat_minor": 5
}
