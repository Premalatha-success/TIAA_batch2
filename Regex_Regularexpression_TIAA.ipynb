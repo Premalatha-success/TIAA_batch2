{
 "cells": [
  {
   "cell_type": "code",
   "execution_count": 2,
   "id": "d7f5a14f",
   "metadata": {},
   "outputs": [
    {
     "name": "stdout",
     "output_type": "stream",
     "text": [
      "Match found: Python\n"
     ]
    }
   ],
   "source": [
    "import re\n",
    "\n",
    "# Define a pattern to match a simple word\n",
    "pattern = re.compile(r'Python')\n",
    "\n",
    "# Test the pattern with a sample text\n",
    "text = 'I love Python programming language.'\n",
    "match = pattern.search(text)\n",
    "\n",
    "if match:\n",
    "    print(f\"Match found: {match.group()}\")\n",
    "else:\n",
    "    print(\"No match found.\")\n"
   ]
  },
  {
   "cell_type": "code",
   "execution_count": 3,
   "id": "eba9a6bb",
   "metadata": {},
   "outputs": [
    {
     "name": "stdout",
     "output_type": "stream",
     "text": [
      "Dates found: ['11/23/2023', '11/24/2023']\n"
     ]
    }
   ],
   "source": [
    "import re\n",
    "\n",
    "# Define a pattern to match a date in the format MM/DD/YYYY\n",
    "pattern = re.compile(r'\\d{2}/\\d{2}/\\d{4}')\n",
    "\n",
    "# Test the pattern with a sample text\n",
    "text = 'Today is 11/23/2023. Tomorrow is 11/24/2023.'\n",
    "matches = pattern.findall(text)\n",
    "\n",
    "print(\"Dates found:\", matches)\n"
   ]
  },
  {
   "cell_type": "code",
   "execution_count": 4,
   "id": "36242e58",
   "metadata": {},
   "outputs": [
    {
     "name": "stdout",
     "output_type": "stream",
     "text": [
      "Email addresses found: [('doe', 'example', 'com'), ('jane_smith', 'gmail', 'com')]\n"
     ]
    }
   ],
   "source": [
    "import re\n",
    "\n",
    "# Define a pattern to match email addresses\n",
    "pattern = re.compile(r'(\\w+)@(\\w+)\\.(\\w+)')\n",
    "\n",
    "# Test the pattern with a sample text\n",
    "text = 'Emails: john.doe@example.com, jane_smith@gmail.com'\n",
    "matches = pattern.findall(text)\n",
    "\n",
    "print(\"Email addresses found:\", matches)\n"
   ]
  },
  {
   "cell_type": "code",
   "execution_count": 5,
   "id": "0028d9d0",
   "metadata": {},
   "outputs": [
    {
     "name": "stdout",
     "output_type": "stream",
     "text": [
      "Original text: I have 3 apples and 5 bananas.\n",
      "Modified text: I have X apples and X bananas.\n"
     ]
    }
   ],
   "source": [
    "import re\n",
    "\n",
    "# Define a pattern to match numbers\n",
    "pattern = re.compile(r'\\d+')\n",
    "\n",
    "# Test the pattern with a sample text\n",
    "text = 'I have 3 apples and 5 bananas.'\n",
    "replaced_text = pattern.sub('X', text)\n",
    "\n",
    "print(\"Original text:\", text)\n",
    "print(\"Modified text:\", replaced_text)\n"
   ]
  },
  {
   "cell_type": "code",
   "execution_count": 6,
   "id": "4786f2a5",
   "metadata": {},
   "outputs": [
    {
     "name": "stdout",
     "output_type": "stream",
     "text": [
      "Original text: I have 3 apples and 5 bananas.\n",
      "Modified text (non-digits removed):  3 5 \n"
     ]
    }
   ],
   "source": [
    "import re\n",
    "\n",
    "# Define a pattern to match non-digits\n",
    "pattern = re.compile(r'\\D+')\n",
    "\n",
    "# Test the pattern with a sample text\n",
    "text = 'I have 3 apples and 5 bananas.'\n",
    "result = pattern.sub(' ', text)\n",
    "\n",
    "print(\"Original text:\", text)\n",
    "print(\"Modified text (non-digits removed):\", result)\n"
   ]
  },
  {
   "cell_type": "code",
   "execution_count": 7,
   "id": "a818cbf7",
   "metadata": {},
   "outputs": [
    {
     "name": "stdout",
     "output_type": "stream",
     "text": [
      "URLs found: ['https://www.example.com.', 'https://github.com/user/repo.']\n"
     ]
    }
   ],
   "source": [
    "import re\n",
    "\n",
    "# Define a pattern to extract URLs from a text\n",
    "pattern = re.compile(r'https?://\\S+')\n",
    "\n",
    "# Test the pattern with a sample text\n",
    "text = 'Visit my website at https://www.example.com. For more information, check https://github.com/user/repo.'\n",
    "urls = pattern.findall(text)\n",
    "\n",
    "print(\"URLs found:\", urls)\n"
   ]
  },
  {
   "cell_type": "code",
   "execution_count": 8,
   "id": "6ee652e6",
   "metadata": {},
   "outputs": [
    {
     "name": "stdout",
     "output_type": "stream",
     "text": [
      "Original HTML text: <p>This is <b>bold</b> and <i>italic</i>.</p>\n",
      "Cleaned text: This is bold and italic.\n"
     ]
    }
   ],
   "source": [
    "import re\n",
    "\n",
    "# Define a pattern to remove HTML tags from a text\n",
    "pattern = re.compile(r'<.*?>')\n",
    "\n",
    "# Test the pattern with a sample HTML text\n",
    "html_text = '<p>This is <b>bold</b> and <i>italic</i>.</p>'\n",
    "clean_text = pattern.sub('', html_text)\n",
    "\n",
    "print(\"Original HTML text:\", html_text)\n",
    "print(\"Cleaned text:\", clean_text)\n"
   ]
  },
  {
   "cell_type": "code",
   "execution_count": 9,
   "id": "81c11b96",
   "metadata": {},
   "outputs": [
    {
     "name": "stdout",
     "output_type": "stream",
     "text": [
      "Phone numbers found: ['123-456-7890', '987-654-3210']\n"
     ]
    }
   ],
   "source": [
    "import re\n",
    "\n",
    "# Define a pattern to extract phone numbers from a text\n",
    "pattern = re.compile(r'\\d{3}-\\d{3}-\\d{4}')\n",
    "\n",
    "# Test the pattern with a sample text\n",
    "text = 'Contact us at 123-456-7890 or 987-654-3210 for assistance.'\n",
    "phone_numbers = pattern.findall(text)\n",
    "\n",
    "print(\"Phone numbers found:\", phone_numbers)\n"
   ]
  },
  {
   "cell_type": "code",
   "execution_count": 10,
   "id": "a5565fe1",
   "metadata": {},
   "outputs": [
    {
     "name": "stdout",
     "output_type": "stream",
     "text": [
      "Valid email addresses: ['john.doe@example.com']\n"
     ]
    }
   ],
   "source": [
    "import re\n",
    "\n",
    "# Define a pattern to validate email addresses\n",
    "pattern = re.compile(r'\\b[A-Za-z0-9._%+-]+@[A-Za-z0-9.-]+\\.[A-Z|a-z]{2,}\\b')\n",
    "\n",
    "# Test the pattern with a sample text\n",
    "text = 'Emails: john.doe@example.com, invalid.email@.com, alice_smith@gmail.'\n",
    "valid_emails = pattern.findall(text)\n",
    "\n",
    "print(\"Valid email addresses:\", valid_emails)\n"
   ]
  },
  {
   "cell_type": "code",
   "execution_count": 11,
   "id": "8c5dab8c",
   "metadata": {},
   "outputs": [
    {
     "name": "stdout",
     "output_type": "stream",
     "text": [
      "Sentences: ['This is sentence one.', 'This is sentence two! And this is sentence three?']\n"
     ]
    }
   ],
   "source": [
    "import re\n",
    "\n",
    "# Define a pattern to split text into sentences\n",
    "pattern = re.compile(r'(?<!\\w\\.\\w.)(?<![A-Z][a-z]\\.)(?<=\\.|\\?)\\s')\n",
    "\n",
    "# Test the pattern with a sample text\n",
    "text = 'This is sentence one. This is sentence two! And this is sentence three?'\n",
    "sentences = pattern.split(text)\n",
    "\n",
    "print(\"Sentences:\", sentences)\n"
   ]
  },
  {
   "cell_type": "code",
   "execution_count": 12,
   "id": "e482d408",
   "metadata": {},
   "outputs": [
    {
     "name": "stdout",
     "output_type": "stream",
     "text": [
      "Hashtags found: ['#awesome', '#coding', '#programming']\n"
     ]
    }
   ],
   "source": [
    "import re\n",
    "\n",
    "# Define a pattern to extract hashtags from a text\n",
    "pattern = re.compile(r'#\\w+')\n",
    "\n",
    "# Test the pattern with a sample text\n",
    "text = 'Check out this #awesome Python library! #coding #programming'\n",
    "hashtags = pattern.findall(text)\n",
    "\n",
    "print(\"Hashtags found:\", hashtags)\n"
   ]
  },
  {
   "cell_type": "code",
   "execution_count": null,
   "id": "0bf2896d",
   "metadata": {},
   "outputs": [],
   "source": []
  }
 ],
 "metadata": {
  "kernelspec": {
   "display_name": "Python 3 (ipykernel)",
   "language": "python",
   "name": "python3"
  },
  "language_info": {
   "codemirror_mode": {
    "name": "ipython",
    "version": 3
   },
   "file_extension": ".py",
   "mimetype": "text/x-python",
   "name": "python",
   "nbconvert_exporter": "python",
   "pygments_lexer": "ipython3",
   "version": "3.10.9"
  }
 },
 "nbformat": 4,
 "nbformat_minor": 5
}
